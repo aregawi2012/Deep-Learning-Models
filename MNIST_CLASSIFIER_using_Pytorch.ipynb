{
  "nbformat": 4,
  "nbformat_minor": 0,
  "metadata": {
    "colab": {
      "name": "MNIST CLASSIFIER using Pytorch.ipynb",
      "provenance": [],
      "collapsed_sections": [],
      "authorship_tag": "ABX9TyOzsP/TSL37wWf1JsohCu8B",
      "include_colab_link": true
    },
    "kernelspec": {
      "name": "python3",
      "display_name": "Python 3"
    },
    "accelerator": "GPU",
    "widgets": {
      "application/vnd.jupyter.widget-state+json": {
        "fccdf621f1854d68bd41362c5de2e21a": {
          "model_module": "@jupyter-widgets/controls",
          "model_name": "HBoxModel",
          "state": {
            "_view_name": "HBoxView",
            "_dom_classes": [],
            "_model_name": "HBoxModel",
            "_view_module": "@jupyter-widgets/controls",
            "_model_module_version": "1.5.0",
            "_view_count": null,
            "_view_module_version": "1.5.0",
            "box_style": "",
            "layout": "IPY_MODEL_b8d20e2f30374a2598dae60ee1f7fc3f",
            "_model_module": "@jupyter-widgets/controls",
            "children": [
              "IPY_MODEL_7f27bc144b6e4328b416e722d44c1d8c",
              "IPY_MODEL_d4c9172fd5804e5189609404fda4358c"
            ]
          }
        },
        "b8d20e2f30374a2598dae60ee1f7fc3f": {
          "model_module": "@jupyter-widgets/base",
          "model_name": "LayoutModel",
          "state": {
            "_view_name": "LayoutView",
            "grid_template_rows": null,
            "right": null,
            "justify_content": null,
            "_view_module": "@jupyter-widgets/base",
            "overflow": null,
            "_model_module_version": "1.2.0",
            "_view_count": null,
            "flex_flow": null,
            "width": null,
            "min_width": null,
            "border": null,
            "align_items": null,
            "bottom": null,
            "_model_module": "@jupyter-widgets/base",
            "top": null,
            "grid_column": null,
            "overflow_y": null,
            "overflow_x": null,
            "grid_auto_flow": null,
            "grid_area": null,
            "grid_template_columns": null,
            "flex": null,
            "_model_name": "LayoutModel",
            "justify_items": null,
            "grid_row": null,
            "max_height": null,
            "align_content": null,
            "visibility": null,
            "align_self": null,
            "height": null,
            "min_height": null,
            "padding": null,
            "grid_auto_rows": null,
            "grid_gap": null,
            "max_width": null,
            "order": null,
            "_view_module_version": "1.2.0",
            "grid_template_areas": null,
            "object_position": null,
            "object_fit": null,
            "grid_auto_columns": null,
            "margin": null,
            "display": null,
            "left": null
          }
        },
        "7f27bc144b6e4328b416e722d44c1d8c": {
          "model_module": "@jupyter-widgets/controls",
          "model_name": "FloatProgressModel",
          "state": {
            "_view_name": "ProgressView",
            "style": "IPY_MODEL_43f47b9868e949dab44d23979f2dd0a8",
            "_dom_classes": [],
            "description": "",
            "_model_name": "FloatProgressModel",
            "bar_style": "success",
            "max": 1,
            "_view_module": "@jupyter-widgets/controls",
            "_model_module_version": "1.5.0",
            "value": 1,
            "_view_count": null,
            "_view_module_version": "1.5.0",
            "orientation": "horizontal",
            "min": 0,
            "description_tooltip": null,
            "_model_module": "@jupyter-widgets/controls",
            "layout": "IPY_MODEL_da95716ba7b2406cb9ec03c5972d4919"
          }
        },
        "d4c9172fd5804e5189609404fda4358c": {
          "model_module": "@jupyter-widgets/controls",
          "model_name": "HTMLModel",
          "state": {
            "_view_name": "HTMLView",
            "style": "IPY_MODEL_d31928525d0146e98f9a0ad2c899371c",
            "_dom_classes": [],
            "description": "",
            "_model_name": "HTMLModel",
            "placeholder": "​",
            "_view_module": "@jupyter-widgets/controls",
            "_model_module_version": "1.5.0",
            "value": " 9920512/? [00:05&lt;00:00, 1981357.33it/s]",
            "_view_count": null,
            "_view_module_version": "1.5.0",
            "description_tooltip": null,
            "_model_module": "@jupyter-widgets/controls",
            "layout": "IPY_MODEL_d1487ba697314155b85dec49715d3a12"
          }
        },
        "43f47b9868e949dab44d23979f2dd0a8": {
          "model_module": "@jupyter-widgets/controls",
          "model_name": "ProgressStyleModel",
          "state": {
            "_view_name": "StyleView",
            "_model_name": "ProgressStyleModel",
            "description_width": "initial",
            "_view_module": "@jupyter-widgets/base",
            "_model_module_version": "1.5.0",
            "_view_count": null,
            "_view_module_version": "1.2.0",
            "bar_color": null,
            "_model_module": "@jupyter-widgets/controls"
          }
        },
        "da95716ba7b2406cb9ec03c5972d4919": {
          "model_module": "@jupyter-widgets/base",
          "model_name": "LayoutModel",
          "state": {
            "_view_name": "LayoutView",
            "grid_template_rows": null,
            "right": null,
            "justify_content": null,
            "_view_module": "@jupyter-widgets/base",
            "overflow": null,
            "_model_module_version": "1.2.0",
            "_view_count": null,
            "flex_flow": null,
            "width": null,
            "min_width": null,
            "border": null,
            "align_items": null,
            "bottom": null,
            "_model_module": "@jupyter-widgets/base",
            "top": null,
            "grid_column": null,
            "overflow_y": null,
            "overflow_x": null,
            "grid_auto_flow": null,
            "grid_area": null,
            "grid_template_columns": null,
            "flex": null,
            "_model_name": "LayoutModel",
            "justify_items": null,
            "grid_row": null,
            "max_height": null,
            "align_content": null,
            "visibility": null,
            "align_self": null,
            "height": null,
            "min_height": null,
            "padding": null,
            "grid_auto_rows": null,
            "grid_gap": null,
            "max_width": null,
            "order": null,
            "_view_module_version": "1.2.0",
            "grid_template_areas": null,
            "object_position": null,
            "object_fit": null,
            "grid_auto_columns": null,
            "margin": null,
            "display": null,
            "left": null
          }
        },
        "d31928525d0146e98f9a0ad2c899371c": {
          "model_module": "@jupyter-widgets/controls",
          "model_name": "DescriptionStyleModel",
          "state": {
            "_view_name": "StyleView",
            "_model_name": "DescriptionStyleModel",
            "description_width": "",
            "_view_module": "@jupyter-widgets/base",
            "_model_module_version": "1.5.0",
            "_view_count": null,
            "_view_module_version": "1.2.0",
            "_model_module": "@jupyter-widgets/controls"
          }
        },
        "d1487ba697314155b85dec49715d3a12": {
          "model_module": "@jupyter-widgets/base",
          "model_name": "LayoutModel",
          "state": {
            "_view_name": "LayoutView",
            "grid_template_rows": null,
            "right": null,
            "justify_content": null,
            "_view_module": "@jupyter-widgets/base",
            "overflow": null,
            "_model_module_version": "1.2.0",
            "_view_count": null,
            "flex_flow": null,
            "width": null,
            "min_width": null,
            "border": null,
            "align_items": null,
            "bottom": null,
            "_model_module": "@jupyter-widgets/base",
            "top": null,
            "grid_column": null,
            "overflow_y": null,
            "overflow_x": null,
            "grid_auto_flow": null,
            "grid_area": null,
            "grid_template_columns": null,
            "flex": null,
            "_model_name": "LayoutModel",
            "justify_items": null,
            "grid_row": null,
            "max_height": null,
            "align_content": null,
            "visibility": null,
            "align_self": null,
            "height": null,
            "min_height": null,
            "padding": null,
            "grid_auto_rows": null,
            "grid_gap": null,
            "max_width": null,
            "order": null,
            "_view_module_version": "1.2.0",
            "grid_template_areas": null,
            "object_position": null,
            "object_fit": null,
            "grid_auto_columns": null,
            "margin": null,
            "display": null,
            "left": null
          }
        },
        "9cd84b60c7ad4e1a95006f4f795ccfc2": {
          "model_module": "@jupyter-widgets/controls",
          "model_name": "HBoxModel",
          "state": {
            "_view_name": "HBoxView",
            "_dom_classes": [],
            "_model_name": "HBoxModel",
            "_view_module": "@jupyter-widgets/controls",
            "_model_module_version": "1.5.0",
            "_view_count": null,
            "_view_module_version": "1.5.0",
            "box_style": "",
            "layout": "IPY_MODEL_1c6fde60bb1c467db162cf97e0a21558",
            "_model_module": "@jupyter-widgets/controls",
            "children": [
              "IPY_MODEL_f2f1c2424f2c466782ccab266e040ba1",
              "IPY_MODEL_40a04a749f0c4ed5b3b965dc45177b2f"
            ]
          }
        },
        "1c6fde60bb1c467db162cf97e0a21558": {
          "model_module": "@jupyter-widgets/base",
          "model_name": "LayoutModel",
          "state": {
            "_view_name": "LayoutView",
            "grid_template_rows": null,
            "right": null,
            "justify_content": null,
            "_view_module": "@jupyter-widgets/base",
            "overflow": null,
            "_model_module_version": "1.2.0",
            "_view_count": null,
            "flex_flow": null,
            "width": null,
            "min_width": null,
            "border": null,
            "align_items": null,
            "bottom": null,
            "_model_module": "@jupyter-widgets/base",
            "top": null,
            "grid_column": null,
            "overflow_y": null,
            "overflow_x": null,
            "grid_auto_flow": null,
            "grid_area": null,
            "grid_template_columns": null,
            "flex": null,
            "_model_name": "LayoutModel",
            "justify_items": null,
            "grid_row": null,
            "max_height": null,
            "align_content": null,
            "visibility": null,
            "align_self": null,
            "height": null,
            "min_height": null,
            "padding": null,
            "grid_auto_rows": null,
            "grid_gap": null,
            "max_width": null,
            "order": null,
            "_view_module_version": "1.2.0",
            "grid_template_areas": null,
            "object_position": null,
            "object_fit": null,
            "grid_auto_columns": null,
            "margin": null,
            "display": null,
            "left": null
          }
        },
        "f2f1c2424f2c466782ccab266e040ba1": {
          "model_module": "@jupyter-widgets/controls",
          "model_name": "FloatProgressModel",
          "state": {
            "_view_name": "ProgressView",
            "style": "IPY_MODEL_708c6f70c4a745db9d7829e01073395c",
            "_dom_classes": [],
            "description": "",
            "_model_name": "FloatProgressModel",
            "bar_style": "success",
            "max": 1,
            "_view_module": "@jupyter-widgets/controls",
            "_model_module_version": "1.5.0",
            "value": 1,
            "_view_count": null,
            "_view_module_version": "1.5.0",
            "orientation": "horizontal",
            "min": 0,
            "description_tooltip": null,
            "_model_module": "@jupyter-widgets/controls",
            "layout": "IPY_MODEL_6507e01cee024c90bd4f34c3804a5ebb"
          }
        },
        "40a04a749f0c4ed5b3b965dc45177b2f": {
          "model_module": "@jupyter-widgets/controls",
          "model_name": "HTMLModel",
          "state": {
            "_view_name": "HTMLView",
            "style": "IPY_MODEL_3fa77f6f5276404283af6d2dc120d90b",
            "_dom_classes": [],
            "description": "",
            "_model_name": "HTMLModel",
            "placeholder": "​",
            "_view_module": "@jupyter-widgets/controls",
            "_model_module_version": "1.5.0",
            "value": " 32768/? [00:00&lt;00:00, 114826.99it/s]",
            "_view_count": null,
            "_view_module_version": "1.5.0",
            "description_tooltip": null,
            "_model_module": "@jupyter-widgets/controls",
            "layout": "IPY_MODEL_44754386a99742748f8859aa6768343b"
          }
        },
        "708c6f70c4a745db9d7829e01073395c": {
          "model_module": "@jupyter-widgets/controls",
          "model_name": "ProgressStyleModel",
          "state": {
            "_view_name": "StyleView",
            "_model_name": "ProgressStyleModel",
            "description_width": "initial",
            "_view_module": "@jupyter-widgets/base",
            "_model_module_version": "1.5.0",
            "_view_count": null,
            "_view_module_version": "1.2.0",
            "bar_color": null,
            "_model_module": "@jupyter-widgets/controls"
          }
        },
        "6507e01cee024c90bd4f34c3804a5ebb": {
          "model_module": "@jupyter-widgets/base",
          "model_name": "LayoutModel",
          "state": {
            "_view_name": "LayoutView",
            "grid_template_rows": null,
            "right": null,
            "justify_content": null,
            "_view_module": "@jupyter-widgets/base",
            "overflow": null,
            "_model_module_version": "1.2.0",
            "_view_count": null,
            "flex_flow": null,
            "width": null,
            "min_width": null,
            "border": null,
            "align_items": null,
            "bottom": null,
            "_model_module": "@jupyter-widgets/base",
            "top": null,
            "grid_column": null,
            "overflow_y": null,
            "overflow_x": null,
            "grid_auto_flow": null,
            "grid_area": null,
            "grid_template_columns": null,
            "flex": null,
            "_model_name": "LayoutModel",
            "justify_items": null,
            "grid_row": null,
            "max_height": null,
            "align_content": null,
            "visibility": null,
            "align_self": null,
            "height": null,
            "min_height": null,
            "padding": null,
            "grid_auto_rows": null,
            "grid_gap": null,
            "max_width": null,
            "order": null,
            "_view_module_version": "1.2.0",
            "grid_template_areas": null,
            "object_position": null,
            "object_fit": null,
            "grid_auto_columns": null,
            "margin": null,
            "display": null,
            "left": null
          }
        },
        "3fa77f6f5276404283af6d2dc120d90b": {
          "model_module": "@jupyter-widgets/controls",
          "model_name": "DescriptionStyleModel",
          "state": {
            "_view_name": "StyleView",
            "_model_name": "DescriptionStyleModel",
            "description_width": "",
            "_view_module": "@jupyter-widgets/base",
            "_model_module_version": "1.5.0",
            "_view_count": null,
            "_view_module_version": "1.2.0",
            "_model_module": "@jupyter-widgets/controls"
          }
        },
        "44754386a99742748f8859aa6768343b": {
          "model_module": "@jupyter-widgets/base",
          "model_name": "LayoutModel",
          "state": {
            "_view_name": "LayoutView",
            "grid_template_rows": null,
            "right": null,
            "justify_content": null,
            "_view_module": "@jupyter-widgets/base",
            "overflow": null,
            "_model_module_version": "1.2.0",
            "_view_count": null,
            "flex_flow": null,
            "width": null,
            "min_width": null,
            "border": null,
            "align_items": null,
            "bottom": null,
            "_model_module": "@jupyter-widgets/base",
            "top": null,
            "grid_column": null,
            "overflow_y": null,
            "overflow_x": null,
            "grid_auto_flow": null,
            "grid_area": null,
            "grid_template_columns": null,
            "flex": null,
            "_model_name": "LayoutModel",
            "justify_items": null,
            "grid_row": null,
            "max_height": null,
            "align_content": null,
            "visibility": null,
            "align_self": null,
            "height": null,
            "min_height": null,
            "padding": null,
            "grid_auto_rows": null,
            "grid_gap": null,
            "max_width": null,
            "order": null,
            "_view_module_version": "1.2.0",
            "grid_template_areas": null,
            "object_position": null,
            "object_fit": null,
            "grid_auto_columns": null,
            "margin": null,
            "display": null,
            "left": null
          }
        },
        "cbee6e56d7874fa8af7b6752093fe304": {
          "model_module": "@jupyter-widgets/controls",
          "model_name": "HBoxModel",
          "state": {
            "_view_name": "HBoxView",
            "_dom_classes": [],
            "_model_name": "HBoxModel",
            "_view_module": "@jupyter-widgets/controls",
            "_model_module_version": "1.5.0",
            "_view_count": null,
            "_view_module_version": "1.5.0",
            "box_style": "",
            "layout": "IPY_MODEL_8a4e82ead5864bf5a011b770a2751a4c",
            "_model_module": "@jupyter-widgets/controls",
            "children": [
              "IPY_MODEL_1ade15a046f34101a3a1df718c01eeb4",
              "IPY_MODEL_6f51e87eea2f40d2a817350b0ad4d2f7"
            ]
          }
        },
        "8a4e82ead5864bf5a011b770a2751a4c": {
          "model_module": "@jupyter-widgets/base",
          "model_name": "LayoutModel",
          "state": {
            "_view_name": "LayoutView",
            "grid_template_rows": null,
            "right": null,
            "justify_content": null,
            "_view_module": "@jupyter-widgets/base",
            "overflow": null,
            "_model_module_version": "1.2.0",
            "_view_count": null,
            "flex_flow": null,
            "width": null,
            "min_width": null,
            "border": null,
            "align_items": null,
            "bottom": null,
            "_model_module": "@jupyter-widgets/base",
            "top": null,
            "grid_column": null,
            "overflow_y": null,
            "overflow_x": null,
            "grid_auto_flow": null,
            "grid_area": null,
            "grid_template_columns": null,
            "flex": null,
            "_model_name": "LayoutModel",
            "justify_items": null,
            "grid_row": null,
            "max_height": null,
            "align_content": null,
            "visibility": null,
            "align_self": null,
            "height": null,
            "min_height": null,
            "padding": null,
            "grid_auto_rows": null,
            "grid_gap": null,
            "max_width": null,
            "order": null,
            "_view_module_version": "1.2.0",
            "grid_template_areas": null,
            "object_position": null,
            "object_fit": null,
            "grid_auto_columns": null,
            "margin": null,
            "display": null,
            "left": null
          }
        },
        "1ade15a046f34101a3a1df718c01eeb4": {
          "model_module": "@jupyter-widgets/controls",
          "model_name": "FloatProgressModel",
          "state": {
            "_view_name": "ProgressView",
            "style": "IPY_MODEL_beff251407c74d4b96b87f20e97e9da3",
            "_dom_classes": [],
            "description": "",
            "_model_name": "FloatProgressModel",
            "bar_style": "success",
            "max": 1,
            "_view_module": "@jupyter-widgets/controls",
            "_model_module_version": "1.5.0",
            "value": 1,
            "_view_count": null,
            "_view_module_version": "1.5.0",
            "orientation": "horizontal",
            "min": 0,
            "description_tooltip": null,
            "_model_module": "@jupyter-widgets/controls",
            "layout": "IPY_MODEL_73da511e9db74b4d86855b29ed40dd69"
          }
        },
        "6f51e87eea2f40d2a817350b0ad4d2f7": {
          "model_module": "@jupyter-widgets/controls",
          "model_name": "HTMLModel",
          "state": {
            "_view_name": "HTMLView",
            "style": "IPY_MODEL_955b9d5e6fb941c4be5747c052919a2e",
            "_dom_classes": [],
            "description": "",
            "_model_name": "HTMLModel",
            "placeholder": "​",
            "_view_module": "@jupyter-widgets/controls",
            "_model_module_version": "1.5.0",
            "value": " 1654784/? [00:01&lt;00:00, 1093825.99it/s]",
            "_view_count": null,
            "_view_module_version": "1.5.0",
            "description_tooltip": null,
            "_model_module": "@jupyter-widgets/controls",
            "layout": "IPY_MODEL_091ef0db36e94fcd85936b278b8303df"
          }
        },
        "beff251407c74d4b96b87f20e97e9da3": {
          "model_module": "@jupyter-widgets/controls",
          "model_name": "ProgressStyleModel",
          "state": {
            "_view_name": "StyleView",
            "_model_name": "ProgressStyleModel",
            "description_width": "initial",
            "_view_module": "@jupyter-widgets/base",
            "_model_module_version": "1.5.0",
            "_view_count": null,
            "_view_module_version": "1.2.0",
            "bar_color": null,
            "_model_module": "@jupyter-widgets/controls"
          }
        },
        "73da511e9db74b4d86855b29ed40dd69": {
          "model_module": "@jupyter-widgets/base",
          "model_name": "LayoutModel",
          "state": {
            "_view_name": "LayoutView",
            "grid_template_rows": null,
            "right": null,
            "justify_content": null,
            "_view_module": "@jupyter-widgets/base",
            "overflow": null,
            "_model_module_version": "1.2.0",
            "_view_count": null,
            "flex_flow": null,
            "width": null,
            "min_width": null,
            "border": null,
            "align_items": null,
            "bottom": null,
            "_model_module": "@jupyter-widgets/base",
            "top": null,
            "grid_column": null,
            "overflow_y": null,
            "overflow_x": null,
            "grid_auto_flow": null,
            "grid_area": null,
            "grid_template_columns": null,
            "flex": null,
            "_model_name": "LayoutModel",
            "justify_items": null,
            "grid_row": null,
            "max_height": null,
            "align_content": null,
            "visibility": null,
            "align_self": null,
            "height": null,
            "min_height": null,
            "padding": null,
            "grid_auto_rows": null,
            "grid_gap": null,
            "max_width": null,
            "order": null,
            "_view_module_version": "1.2.0",
            "grid_template_areas": null,
            "object_position": null,
            "object_fit": null,
            "grid_auto_columns": null,
            "margin": null,
            "display": null,
            "left": null
          }
        },
        "955b9d5e6fb941c4be5747c052919a2e": {
          "model_module": "@jupyter-widgets/controls",
          "model_name": "DescriptionStyleModel",
          "state": {
            "_view_name": "StyleView",
            "_model_name": "DescriptionStyleModel",
            "description_width": "",
            "_view_module": "@jupyter-widgets/base",
            "_model_module_version": "1.5.0",
            "_view_count": null,
            "_view_module_version": "1.2.0",
            "_model_module": "@jupyter-widgets/controls"
          }
        },
        "091ef0db36e94fcd85936b278b8303df": {
          "model_module": "@jupyter-widgets/base",
          "model_name": "LayoutModel",
          "state": {
            "_view_name": "LayoutView",
            "grid_template_rows": null,
            "right": null,
            "justify_content": null,
            "_view_module": "@jupyter-widgets/base",
            "overflow": null,
            "_model_module_version": "1.2.0",
            "_view_count": null,
            "flex_flow": null,
            "width": null,
            "min_width": null,
            "border": null,
            "align_items": null,
            "bottom": null,
            "_model_module": "@jupyter-widgets/base",
            "top": null,
            "grid_column": null,
            "overflow_y": null,
            "overflow_x": null,
            "grid_auto_flow": null,
            "grid_area": null,
            "grid_template_columns": null,
            "flex": null,
            "_model_name": "LayoutModel",
            "justify_items": null,
            "grid_row": null,
            "max_height": null,
            "align_content": null,
            "visibility": null,
            "align_self": null,
            "height": null,
            "min_height": null,
            "padding": null,
            "grid_auto_rows": null,
            "grid_gap": null,
            "max_width": null,
            "order": null,
            "_view_module_version": "1.2.0",
            "grid_template_areas": null,
            "object_position": null,
            "object_fit": null,
            "grid_auto_columns": null,
            "margin": null,
            "display": null,
            "left": null
          }
        },
        "d083b2e8e39f4c0eb0e61663f01acb52": {
          "model_module": "@jupyter-widgets/controls",
          "model_name": "HBoxModel",
          "state": {
            "_view_name": "HBoxView",
            "_dom_classes": [],
            "_model_name": "HBoxModel",
            "_view_module": "@jupyter-widgets/controls",
            "_model_module_version": "1.5.0",
            "_view_count": null,
            "_view_module_version": "1.5.0",
            "box_style": "",
            "layout": "IPY_MODEL_4c4a1ec1c2244193bddfe8f2e29d0467",
            "_model_module": "@jupyter-widgets/controls",
            "children": [
              "IPY_MODEL_de469b787c1a463ab72a4fd864b80da4",
              "IPY_MODEL_95645939b00e471c899fe201c29ab077"
            ]
          }
        },
        "4c4a1ec1c2244193bddfe8f2e29d0467": {
          "model_module": "@jupyter-widgets/base",
          "model_name": "LayoutModel",
          "state": {
            "_view_name": "LayoutView",
            "grid_template_rows": null,
            "right": null,
            "justify_content": null,
            "_view_module": "@jupyter-widgets/base",
            "overflow": null,
            "_model_module_version": "1.2.0",
            "_view_count": null,
            "flex_flow": null,
            "width": null,
            "min_width": null,
            "border": null,
            "align_items": null,
            "bottom": null,
            "_model_module": "@jupyter-widgets/base",
            "top": null,
            "grid_column": null,
            "overflow_y": null,
            "overflow_x": null,
            "grid_auto_flow": null,
            "grid_area": null,
            "grid_template_columns": null,
            "flex": null,
            "_model_name": "LayoutModel",
            "justify_items": null,
            "grid_row": null,
            "max_height": null,
            "align_content": null,
            "visibility": null,
            "align_self": null,
            "height": null,
            "min_height": null,
            "padding": null,
            "grid_auto_rows": null,
            "grid_gap": null,
            "max_width": null,
            "order": null,
            "_view_module_version": "1.2.0",
            "grid_template_areas": null,
            "object_position": null,
            "object_fit": null,
            "grid_auto_columns": null,
            "margin": null,
            "display": null,
            "left": null
          }
        },
        "de469b787c1a463ab72a4fd864b80da4": {
          "model_module": "@jupyter-widgets/controls",
          "model_name": "FloatProgressModel",
          "state": {
            "_view_name": "ProgressView",
            "style": "IPY_MODEL_6c146545a5b8433d9a2b8e5bb5575125",
            "_dom_classes": [],
            "description": "",
            "_model_name": "FloatProgressModel",
            "bar_style": "success",
            "max": 1,
            "_view_module": "@jupyter-widgets/controls",
            "_model_module_version": "1.5.0",
            "value": 1,
            "_view_count": null,
            "_view_module_version": "1.5.0",
            "orientation": "horizontal",
            "min": 0,
            "description_tooltip": null,
            "_model_module": "@jupyter-widgets/controls",
            "layout": "IPY_MODEL_c803485cab5b477485580a5ac18802c3"
          }
        },
        "95645939b00e471c899fe201c29ab077": {
          "model_module": "@jupyter-widgets/controls",
          "model_name": "HTMLModel",
          "state": {
            "_view_name": "HTMLView",
            "style": "IPY_MODEL_a57a72bfb976458fa6c99351687498a4",
            "_dom_classes": [],
            "description": "",
            "_model_name": "HTMLModel",
            "placeholder": "​",
            "_view_module": "@jupyter-widgets/controls",
            "_model_module_version": "1.5.0",
            "value": " 8192/? [00:00&lt;00:00, 19998.32it/s]",
            "_view_count": null,
            "_view_module_version": "1.5.0",
            "description_tooltip": null,
            "_model_module": "@jupyter-widgets/controls",
            "layout": "IPY_MODEL_2beee2cf88174550af08c23c765c84fa"
          }
        },
        "6c146545a5b8433d9a2b8e5bb5575125": {
          "model_module": "@jupyter-widgets/controls",
          "model_name": "ProgressStyleModel",
          "state": {
            "_view_name": "StyleView",
            "_model_name": "ProgressStyleModel",
            "description_width": "initial",
            "_view_module": "@jupyter-widgets/base",
            "_model_module_version": "1.5.0",
            "_view_count": null,
            "_view_module_version": "1.2.0",
            "bar_color": null,
            "_model_module": "@jupyter-widgets/controls"
          }
        },
        "c803485cab5b477485580a5ac18802c3": {
          "model_module": "@jupyter-widgets/base",
          "model_name": "LayoutModel",
          "state": {
            "_view_name": "LayoutView",
            "grid_template_rows": null,
            "right": null,
            "justify_content": null,
            "_view_module": "@jupyter-widgets/base",
            "overflow": null,
            "_model_module_version": "1.2.0",
            "_view_count": null,
            "flex_flow": null,
            "width": null,
            "min_width": null,
            "border": null,
            "align_items": null,
            "bottom": null,
            "_model_module": "@jupyter-widgets/base",
            "top": null,
            "grid_column": null,
            "overflow_y": null,
            "overflow_x": null,
            "grid_auto_flow": null,
            "grid_area": null,
            "grid_template_columns": null,
            "flex": null,
            "_model_name": "LayoutModel",
            "justify_items": null,
            "grid_row": null,
            "max_height": null,
            "align_content": null,
            "visibility": null,
            "align_self": null,
            "height": null,
            "min_height": null,
            "padding": null,
            "grid_auto_rows": null,
            "grid_gap": null,
            "max_width": null,
            "order": null,
            "_view_module_version": "1.2.0",
            "grid_template_areas": null,
            "object_position": null,
            "object_fit": null,
            "grid_auto_columns": null,
            "margin": null,
            "display": null,
            "left": null
          }
        },
        "a57a72bfb976458fa6c99351687498a4": {
          "model_module": "@jupyter-widgets/controls",
          "model_name": "DescriptionStyleModel",
          "state": {
            "_view_name": "StyleView",
            "_model_name": "DescriptionStyleModel",
            "description_width": "",
            "_view_module": "@jupyter-widgets/base",
            "_model_module_version": "1.5.0",
            "_view_count": null,
            "_view_module_version": "1.2.0",
            "_model_module": "@jupyter-widgets/controls"
          }
        },
        "2beee2cf88174550af08c23c765c84fa": {
          "model_module": "@jupyter-widgets/base",
          "model_name": "LayoutModel",
          "state": {
            "_view_name": "LayoutView",
            "grid_template_rows": null,
            "right": null,
            "justify_content": null,
            "_view_module": "@jupyter-widgets/base",
            "overflow": null,
            "_model_module_version": "1.2.0",
            "_view_count": null,
            "flex_flow": null,
            "width": null,
            "min_width": null,
            "border": null,
            "align_items": null,
            "bottom": null,
            "_model_module": "@jupyter-widgets/base",
            "top": null,
            "grid_column": null,
            "overflow_y": null,
            "overflow_x": null,
            "grid_auto_flow": null,
            "grid_area": null,
            "grid_template_columns": null,
            "flex": null,
            "_model_name": "LayoutModel",
            "justify_items": null,
            "grid_row": null,
            "max_height": null,
            "align_content": null,
            "visibility": null,
            "align_self": null,
            "height": null,
            "min_height": null,
            "padding": null,
            "grid_auto_rows": null,
            "grid_gap": null,
            "max_width": null,
            "order": null,
            "_view_module_version": "1.2.0",
            "grid_template_areas": null,
            "object_position": null,
            "object_fit": null,
            "grid_auto_columns": null,
            "margin": null,
            "display": null,
            "left": null
          }
        }
      }
    }
  },
  "cells": [
    {
      "cell_type": "markdown",
      "metadata": {
        "id": "view-in-github",
        "colab_type": "text"
      },
      "source": [
        "<a href=\"https://colab.research.google.com/github/aregawihalefom/Deep-Learning-Models/blob/master/MNIST_CLASSIFIER_using_Pytorch.ipynb\" target=\"_parent\"><img src=\"https://colab.research.google.com/assets/colab-badge.svg\" alt=\"Open In Colab\"/></a>"
      ]
    },
    {
      "cell_type": "code",
      "metadata": {
        "id": "uGUKrorM_KYQ"
      },
      "source": [
        "import numpy as np\n",
        "import matplotlib.pyplot as plt\n",
        "\n",
        "import torch\n",
        "import torch.utils.data.dataloader as dataloader\n",
        "import torchvision.datasets as datasets\n",
        "import torchvision.transforms as transforms\n",
        "\n",
        "import torch.optim as opt\n",
        "import torch.nn as nn\n",
        "import torch.optim as optim\n"
      ],
      "execution_count": 1,
      "outputs": []
    },
    {
      "cell_type": "code",
      "metadata": {
        "id": "tkcvc3SK_R1g",
        "outputId": "e9ca860e-4829-4c5a-f32e-7ba16e524748",
        "colab": {
          "base_uri": "https://localhost:8080/",
          "height": 35
        }
      },
      "source": [
        "# check if there is GPU\n",
        "gpu_avaliable = torch.cuda.is_available()\n",
        "if gpu_avaliable:\n",
        "  device = \"cuda\"\n",
        "  print(\"GPU avaliable train of GPU\")\n",
        "else:\n",
        "  print(\"No GPU availabie , training will continue on cpu\")"
      ],
      "execution_count": 2,
      "outputs": [
        {
          "output_type": "stream",
          "text": [
            "GPU avaliable train of GPU\n"
          ],
          "name": "stdout"
        }
      ]
    },
    {
      "cell_type": "code",
      "metadata": {
        "id": "z0JeEI1ePFEW",
        "outputId": "55ead84a-388b-46be-cde6-6ef244ab42c2",
        "colab": {
          "base_uri": "https://localhost:8080/",
          "height": 391,
          "referenced_widgets": [
            "fccdf621f1854d68bd41362c5de2e21a",
            "b8d20e2f30374a2598dae60ee1f7fc3f",
            "7f27bc144b6e4328b416e722d44c1d8c",
            "d4c9172fd5804e5189609404fda4358c",
            "43f47b9868e949dab44d23979f2dd0a8",
            "da95716ba7b2406cb9ec03c5972d4919",
            "d31928525d0146e98f9a0ad2c899371c",
            "d1487ba697314155b85dec49715d3a12",
            "9cd84b60c7ad4e1a95006f4f795ccfc2",
            "1c6fde60bb1c467db162cf97e0a21558",
            "f2f1c2424f2c466782ccab266e040ba1",
            "40a04a749f0c4ed5b3b965dc45177b2f",
            "708c6f70c4a745db9d7829e01073395c",
            "6507e01cee024c90bd4f34c3804a5ebb",
            "3fa77f6f5276404283af6d2dc120d90b",
            "44754386a99742748f8859aa6768343b",
            "cbee6e56d7874fa8af7b6752093fe304",
            "8a4e82ead5864bf5a011b770a2751a4c",
            "1ade15a046f34101a3a1df718c01eeb4",
            "6f51e87eea2f40d2a817350b0ad4d2f7",
            "beff251407c74d4b96b87f20e97e9da3",
            "73da511e9db74b4d86855b29ed40dd69",
            "955b9d5e6fb941c4be5747c052919a2e",
            "091ef0db36e94fcd85936b278b8303df",
            "d083b2e8e39f4c0eb0e61663f01acb52",
            "4c4a1ec1c2244193bddfe8f2e29d0467",
            "de469b787c1a463ab72a4fd864b80da4",
            "95645939b00e471c899fe201c29ab077",
            "6c146545a5b8433d9a2b8e5bb5575125",
            "c803485cab5b477485580a5ac18802c3",
            "a57a72bfb976458fa6c99351687498a4",
            "2beee2cf88174550af08c23c765c84fa"
          ]
        }
      },
      "source": [
        "# Prepare dataset\n",
        "ts = transforms.Compose([transforms.ToTensor(),transforms.Normalize(0.4 , 0.5)])\n",
        "train = datasets.MNIST('mnist', train=True, transform=ts, download=True)\n",
        "test  = datasets.MNIST('mnist', train=False, transform=ts, download=True)"
      ],
      "execution_count": 3,
      "outputs": [
        {
          "output_type": "stream",
          "text": [
            "Downloading http://yann.lecun.com/exdb/mnist/train-images-idx3-ubyte.gz to mnist/MNIST/raw/train-images-idx3-ubyte.gz\n"
          ],
          "name": "stdout"
        },
        {
          "output_type": "display_data",
          "data": {
            "application/vnd.jupyter.widget-view+json": {
              "model_id": "fccdf621f1854d68bd41362c5de2e21a",
              "version_minor": 0,
              "version_major": 2
            },
            "text/plain": [
              "HBox(children=(FloatProgress(value=1.0, bar_style='info', max=1.0), HTML(value='')))"
            ]
          },
          "metadata": {
            "tags": []
          }
        },
        {
          "output_type": "stream",
          "text": [
            "Extracting mnist/MNIST/raw/train-images-idx3-ubyte.gz to mnist/MNIST/raw\n",
            "Downloading http://yann.lecun.com/exdb/mnist/train-labels-idx1-ubyte.gz to mnist/MNIST/raw/train-labels-idx1-ubyte.gz\n"
          ],
          "name": "stdout"
        },
        {
          "output_type": "display_data",
          "data": {
            "application/vnd.jupyter.widget-view+json": {
              "model_id": "9cd84b60c7ad4e1a95006f4f795ccfc2",
              "version_minor": 0,
              "version_major": 2
            },
            "text/plain": [
              "HBox(children=(FloatProgress(value=1.0, bar_style='info', max=1.0), HTML(value='')))"
            ]
          },
          "metadata": {
            "tags": []
          }
        },
        {
          "output_type": "stream",
          "text": [
            "Extracting mnist/MNIST/raw/train-labels-idx1-ubyte.gz to mnist/MNIST/raw\n",
            "Downloading http://yann.lecun.com/exdb/mnist/t10k-images-idx3-ubyte.gz to mnist/MNIST/raw/t10k-images-idx3-ubyte.gz\n",
            "\n"
          ],
          "name": "stdout"
        },
        {
          "output_type": "display_data",
          "data": {
            "application/vnd.jupyter.widget-view+json": {
              "model_id": "cbee6e56d7874fa8af7b6752093fe304",
              "version_minor": 0,
              "version_major": 2
            },
            "text/plain": [
              "HBox(children=(FloatProgress(value=1.0, bar_style='info', max=1.0), HTML(value='')))"
            ]
          },
          "metadata": {
            "tags": []
          }
        },
        {
          "output_type": "stream",
          "text": [
            "Extracting mnist/MNIST/raw/t10k-images-idx3-ubyte.gz to mnist/MNIST/raw\n",
            "Downloading http://yann.lecun.com/exdb/mnist/t10k-labels-idx1-ubyte.gz to mnist/MNIST/raw/t10k-labels-idx1-ubyte.gz\n"
          ],
          "name": "stdout"
        },
        {
          "output_type": "display_data",
          "data": {
            "application/vnd.jupyter.widget-view+json": {
              "model_id": "d083b2e8e39f4c0eb0e61663f01acb52",
              "version_minor": 0,
              "version_major": 2
            },
            "text/plain": [
              "HBox(children=(FloatProgress(value=1.0, bar_style='info', max=1.0), HTML(value='')))"
            ]
          },
          "metadata": {
            "tags": []
          }
        },
        {
          "output_type": "stream",
          "text": [
            "Extracting mnist/MNIST/raw/t10k-labels-idx1-ubyte.gz to mnist/MNIST/raw\n",
            "Processing...\n",
            "Done!\n"
          ],
          "name": "stdout"
        },
        {
          "output_type": "stream",
          "text": [
            "/usr/local/lib/python3.6/dist-packages/torchvision/datasets/mnist.py:469: UserWarning: The given NumPy array is not writeable, and PyTorch does not support non-writeable tensors. This means you can write to the underlying (supposedly non-writeable) NumPy array using the tensor. You may want to copy the array to protect its data or make it writeable before converting it to a tensor. This type of warning will be suppressed for the rest of this program. (Triggered internally at  /pytorch/torch/csrc/utils/tensor_numpy.cpp:141.)\n",
            "  return torch.from_numpy(parsed.astype(m[2], copy=False)).view(*s)\n"
          ],
          "name": "stderr"
        }
      ]
    },
    {
      "cell_type": "code",
      "metadata": {
        "id": "U1nbVEKEz74Z"
      },
      "source": [
        "train_loader = dataloader.DataLoader(train,batch_size=64 , shuffle=True)\n",
        "test_loader = dataloader.DataLoader(test,batch_size=64 , shuffle=False)"
      ],
      "execution_count": 4,
      "outputs": []
    },
    {
      "cell_type": "code",
      "metadata": {
        "id": "anVAXjERPJta"
      },
      "source": [
        "# VISUALIZATION"
      ],
      "execution_count": 5,
      "outputs": []
    },
    {
      "cell_type": "code",
      "metadata": {
        "id": "9-z7BuL2SyXz",
        "outputId": "1b9743c5-b97b-497d-f0f6-635751d0c047",
        "colab": {
          "base_uri": "https://localhost:8080/",
          "height": 317
        }
      },
      "source": [
        "# single image\n",
        "fig = plt.figure()\n",
        "plt.imshow(train.data[1,:,:])\n",
        "plt.axis('off')"
      ],
      "execution_count": 6,
      "outputs": [
        {
          "output_type": "stream",
          "text": [
            "\n"
          ],
          "name": "stdout"
        },
        {
          "output_type": "execute_result",
          "data": {
            "text/plain": [
              "(-0.5, 27.5, 27.5, -0.5)"
            ]
          },
          "metadata": {
            "tags": []
          },
          "execution_count": 6
        },
        {
          "output_type": "display_data",
          "data": {
            "image/png": "[encoded data removed]",
            "text/plain": [
              "<Figure size 432x288 with 1 Axes>"
            ]
          },
          "metadata": {
            "tags": [],
            "needs_background": "light"
          }
        },
        {
          "output_type": "stream",
          "text": [
            "\n",
            "\n"
          ],
          "name": "stdout"
        }
      ]
    },
    {
      "cell_type": "code",
      "metadata": {
        "id": "uNyut79JQCnO",
        "outputId": "6360b9c8-e2ab-4150-ab21-084554128c03",
        "colab": {
          "base_uri": "https://localhost:8080/",
          "height": 229
        }
      },
      "source": [
        "# multiple images\n",
        "fig = plt.figure()\n",
        "num_image = 40 \n",
        "for i in range(1 , 41):\n",
        "  plt.subplot(4,10,i)\n",
        "  plt.imshow(train.data[i],cmap='Purples_r' , )\n",
        "  plt.axis('off')"
      ],
      "execution_count": 7,
      "outputs": [
        {
          "output_type": "display_data",
          "data": {
            "image/png": "[encoded data removed]",
            "text/plain": [
              "<Figure size 432x288 with 40 Axes>"
            ]
          },
          "metadata": {
            "tags": [],
            "needs_background": "light"
          }
        }
      ]
    },
    {
      "cell_type": "code",
      "metadata": {
        "id": "K9Kc5nLoQOW5"
      },
      "source": [
        "# Creating Network Architecture\n",
        "class Network(nn.Module):\n",
        "  def __init__(self , num_in_channels, num_classes):\n",
        "    super(Network, self).__init__()\n",
        "\n",
        "    self.features = nn.Sequential(\n",
        "           nn.Conv2d(num_in_channels, out_channels=32, kernel_size=3 , padding=1 , stride=1),\n",
        "           nn.ReLU(),\n",
        "\n",
        "           nn.Conv2d(32, 32, kernel_size=3, padding=1, stride=1),\n",
        "           nn.ReLU(),\n",
        "           nn.MaxPool2d(2),\n",
        "           nn.Dropout(0.4),\n",
        "\n",
        "           nn.Conv2d(32, 64, kernel_size=3, padding=1, stride=1),\n",
        "           nn.ReLU(),\n",
        "           nn.MaxPool2d(2)\n",
        "\n",
        "     )\n",
        "    self.classfier = nn.Sequential(\n",
        "       nn.Linear(7*7*64, 200),\n",
        "       nn.ReLU(),\n",
        "       nn.Dropout(0.5),\n",
        "       nn.Linear(200,num_classes),\n",
        "       nn.ReLU()\n",
        "    )\n",
        "    \n",
        "  def forward(self, x):\n",
        "\n",
        "     # extract features\n",
        "     x = self.features(x)\n",
        "\n",
        "     # flatten features\n",
        "     x = x.view(-1 , 7*7*64)\n",
        "\n",
        "     # classfier part\n",
        "     x = self.classfier(x)\n",
        "     \n",
        "     return x"
      ],
      "execution_count": 8,
      "outputs": []
    },
    {
      "cell_type": "code",
      "metadata": {
        "id": "3xBiUhd9uBNr"
      },
      "source": [
        "# Create the instance of the model\n",
        "model = Network(1,10)\n",
        "if gpu_avaliable:\n",
        "  model = model.to(device)"
      ],
      "execution_count": 9,
      "outputs": []
    },
    {
      "cell_type": "code",
      "metadata": {
        "id": "NK-YqIsWhjK-"
      },
      "source": [
        ""
      ],
      "execution_count": 9,
      "outputs": []
    },
    {
      "cell_type": "code",
      "metadata": {
        "id": "QYk-zSLJRqx9"
      },
      "source": [
        "# we will save checkpoints to the checkpoints folder. Create it.\n",
        "!mkdir -p checkpoints"
      ],
      "execution_count": 10,
      "outputs": []
    },
    {
      "cell_type": "code",
      "metadata": {
        "id": "Vpx7HCnXRKoM"
      },
      "source": [
        "def save_checkpoint(optimizer, model, epoch, filename):\n",
        "    checkpoint_dict = {\n",
        "        'optimizer': optimizer.state_dict(),\n",
        "        'model': model.state_dict(),\n",
        "        'epoch': epoch\n",
        "    }\n",
        "    torch.save(checkpoint_dict, filename)\n",
        "\n",
        "\n",
        "def load_checkpoint(optimizer, model, filename):\n",
        "    checkpoint_dict = torch.load(filename)\n",
        "    epoch = checkpoint_dict['epoch']\n",
        "    model.load_state_dict(checkpoint_dict['model'])\n",
        "    if optimizer is not None:\n",
        "        optimizer.load_state_dict(checkpoint_dict['optimizer'])\n",
        "    return epoch"
      ],
      "execution_count": 11,
      "outputs": []
    },
    {
      "cell_type": "code",
      "metadata": {
        "id": "i7CNpstniquY"
      },
      "source": [
        "\n",
        "\n",
        "#Loss function \n",
        "criterion = nn.CrossEntropyLoss()\n",
        "\n",
        "#Optimizer\n",
        "optimizer = optim.Adam(model.parameters() , lr=3e-4 , weight_decay=0.001)\n"
      ],
      "execution_count": 12,
      "outputs": []
    },
    {
      "cell_type": "code",
      "metadata": {
        "id": "wXM98sQTnK1x"
      },
      "source": [
        "# define training for epoch\n",
        "\n",
        "def train_one_epoch():\n",
        "\n",
        "    # put model in train mode\n",
        "    model.train()\n",
        "\n",
        "    # keep track of the training losses during the epoch\n",
        "    train_losses = []\n",
        "\n",
        "    for batch, targets in train_loader:\n",
        "        # Move the training data to the GPU\n",
        "        if gpu_avaliable:\n",
        "           batch = batch.to(device)\n",
        "           targets = targets.to(device)\n",
        "\n",
        "        #reset gradients\n",
        "        optimizer.zero_grad()\n",
        "\n",
        "        # make prediction ( forward pass)\n",
        "        predictions = model(batch)\n",
        "\n",
        "        # calculate loss\n",
        "        loss = criterion(predictions, targets)\n",
        "\n",
        "        #backprop\n",
        "        loss.backward()\n",
        "\n",
        "        #Update weights\n",
        "        optimizer.step()\n",
        "\n",
        "        # hold losses\n",
        "        train_losses.append(loss.item())\n",
        "    return np.mean(train_losses)\n",
        "\n",
        "def testing_one_epoch():\n",
        "\n",
        "  # put model to validation\n",
        "  model.eval()\n",
        "\n",
        "  # validation loos\n",
        "  test_losses = []\n",
        "  y_pred = []\n",
        "\n",
        "  # testing stage\n",
        "  with torch.no_grad():\n",
        "\n",
        "    # for each batch\n",
        "    \n",
        "    for batch , targets in test_loader:\n",
        "\n",
        "      # add to device if there is special device\n",
        "      if gpu_avaliable:\n",
        "        batch = batch.to(device)\n",
        "        targets = targets.to(device)\n",
        "\n",
        "\n",
        "      # make prediction\n",
        "      predictions = model(batch)\n",
        "\n",
        "      # calculate the loss\n",
        "      loss = criterion(predictions,targets)\n",
        "\n",
        "      # update running loss value\n",
        "      test_losses.append(loss.item())\n",
        "\n",
        "      # save predictions\n",
        "      y_pred.extend(predictions.argmax(dim=1).cpu().numpy())\n",
        "\n",
        "  # avearage testing error for this\n",
        "  test_loss = np.mean(test_losses)\n",
        "\n",
        "  # for accuracy ( we need y_hat and y_true)\n",
        "  y_hat = np.array(y_pred , dtype = np.float32)\n",
        "  y_true = np.array(test.targets , dtype=np.float32) # all targets\n",
        " \n",
        "  # get accuracy\n",
        "  accuracy =  np.mean(y_hat == y_true)\n",
        "\n",
        "  return test_loss , accuracy"
      ],
      "execution_count": 13,
      "outputs": []
    },
    {
      "cell_type": "code",
      "metadata": {
        "id": "KGIYbPP81wpK"
      },
      "source": [
        "# now iterate through all the epoches\n",
        "def train_model(epochs):\n",
        "\n",
        "  train_losses, valid_losses , accuracy = [],  [], []\n",
        "  for epoch in range(epochs):\n",
        "\n",
        "    # call training\n",
        "    train_loss = train_one_epoch()\n",
        "\n",
        "    # call testing after each epoch\n",
        "    test_loss, acc = testing_one_epoch()\n",
        "\n",
        "    print(f'[{epoch:03d}] train loss :{train_loss:04f} '\n",
        "          f'test loss : {test_loss:04f} '\n",
        "          f'acc: {acc*100:.2f}%')\n",
        "    \n",
        "    # track losses for later statestics\n",
        "    train_losses.append(train_loss)\n",
        "    valid_losses.append(test_loss)\n",
        "    accuracy.append(acc)\n",
        "\n",
        "    # save models\n",
        "    check_point_name = f'checkpoints/mnist-{epoch:02d}.pkl'\n",
        "    save_checkpoint(optimizer,model,epoch,check_point_name)\n",
        "\n",
        "  return train_losses, valid_losses, accuracy\n",
        "  "
      ],
      "execution_count": 14,
      "outputs": []
    },
    {
      "cell_type": "code",
      "metadata": {
        "id": "X_K3ePH4Blwa"
      },
      "source": [
        ""
      ],
      "execution_count": 14,
      "outputs": []
    },
    {
      "cell_type": "code",
      "metadata": {
        "id": "VDdFK6RDSZ1X",
        "outputId": "6579ffb8-cd04-469f-9c9d-d9f1ce95b316",
        "colab": {
          "base_uri": "https://localhost:8080/",
          "height": 277
        }
      },
      "source": [
        "train_losses, valid_losses, acc = train_model(15)"
      ],
      "execution_count": 15,
      "outputs": [
        {
          "output_type": "stream",
          "text": [
            "[000] train loss :0.499221 test loss : 0.089832 acc: 97.17%\n",
            "[001] train loss :0.141576 test loss : 0.053224 acc: 98.18%\n",
            "[002] train loss :0.101678 test loss : 0.041913 acc: 98.57%\n",
            "[003] train loss :0.087457 test loss : 0.036429 acc: 98.78%\n",
            "[004] train loss :0.075598 test loss : 0.032247 acc: 98.85%\n",
            "[005] train loss :0.070586 test loss : 0.028866 acc: 99.02%\n",
            "[006] train loss :0.064453 test loss : 0.031521 acc: 98.90%\n",
            "[007] train loss :0.060565 test loss : 0.027866 acc: 98.99%\n",
            "[008] train loss :0.054567 test loss : 0.025009 acc: 99.07%\n",
            "[009] train loss :0.052994 test loss : 0.029018 acc: 98.97%\n",
            "[010] train loss :0.050455 test loss : 0.024151 acc: 99.21%\n",
            "[011] train loss :0.048974 test loss : 0.025799 acc: 99.14%\n",
            "[012] train loss :0.047487 test loss : 0.026082 acc: 99.11%\n",
            "[013] train loss :0.045417 test loss : 0.023803 acc: 99.18%\n",
            "[014] train loss :0.044294 test loss : 0.023210 acc: 99.21%\n"
          ],
          "name": "stdout"
        }
      ]
    },
    {
      "cell_type": "code",
      "metadata": {
        "id": "f64guBdTBq6B",
        "outputId": "79438d08-7606-4c8c-f9b9-d137787d2d17",
        "colab": {
          "base_uri": "https://localhost:8080/",
          "height": 295
        }
      },
      "source": [
        "# draw statistics\n",
        "epochs = range(1,len(train_losses)+1)\n",
        "fig = plt.figure()\n",
        "plt.plot(epochs, train_losses ,'-o' , label = \"Training Loss\")\n",
        "plt.plot(epochs, valid_losses, '-o' ,label = 'Validation Loss')\n",
        "plt.plot(epochs, acc, '-o' ,label = 'Accuracy')\n",
        "plt.legend()\n",
        "plt.title('Learning curves')\n",
        "plt.xlabel('Epoch')\n",
        "plt.ylabel('Accuracy')\n",
        "plt.xticks(epochs)\n",
        "plt.show()\n"
      ],
      "execution_count": 16,
      "outputs": [
        {
          "output_type": "display_data",
          "data": {
            "image/png": "[encoded data removed]",
            "text/plain": [
              "<Figure size 432x288 with 1 Axes>"
            ]
          },
          "metadata": {
            "tags": [],
            "needs_background": "light"
          }
        }
      ]
    },
    {
      "cell_type": "code",
      "metadata": {
        "id": "NsR-0vJMLg75",
        "outputId": "1a18c416-638d-4a72-cbe4-85f76dcc31c2",
        "colab": {
          "base_uri": "https://localhost:8080/",
          "height": 35
        }
      },
      "source": [
        "load_checkpoint(optimizer,model,'checkpoints/mnist-14.pkl')"
      ],
      "execution_count": 17,
      "outputs": [
        {
          "output_type": "execute_result",
          "data": {
            "text/plain": [
              "14"
            ]
          },
          "metadata": {
            "tags": []
          },
          "execution_count": 17
        }
      ]
    },
    {
      "cell_type": "code",
      "metadata": {
        "id": "9aHtHjYOK65u"
      },
      "source": [
        "# prediction on signle image\n",
        "\n",
        "image_index = 300 # from the testing set\n",
        "single_loaded_img = test_loader.dataset.data[image_index]\n",
        "single_loaded_img = single_loaded_img.to(device)\n",
        "single_loaded_img = single_loaded_img[None, None]\n",
        "single_loaded_img = single_loaded_img.type('torch.cuda.FloatTensor') # instead of DoubleTensor\n",
        "\n",
        "out_predict = model(single_loaded_img)"
      ],
      "execution_count": 18,
      "outputs": []
    },
    {
      "cell_type": "code",
      "metadata": {
        "id": "fVjl2FPRN0aF",
        "outputId": "cd342379-f1b0-4828-afbe-ba79387b4c43",
        "colab": {
          "base_uri": "https://localhost:8080/",
          "height": 352
        }
      },
      "source": [
        "print(out_predict)\n",
        "pred = out_predict.max(1, keepdim=True)[1]\n",
        "print(pred)\n",
        "plt.imshow(test_loader.dataset.data[image_index])\n",
        "plt.show"
      ],
      "execution_count": 19,
      "outputs": [
        {
          "output_type": "stream",
          "text": [
            "tensor([[   0.0000,  499.7369,  187.0115,    0.0000, 1233.7959,    0.0000,\n",
            "          146.5242,  185.9508,    0.0000,    0.0000]], device='cuda:0',\n",
            "       grad_fn=<ReluBackward0>)\n",
            "tensor([[4]], device='cuda:0')\n"
          ],
          "name": "stdout"
        },
        {
          "output_type": "execute_result",
          "data": {
            "text/plain": [
              "<function matplotlib.pyplot.show>"
            ]
          },
          "metadata": {
            "tags": []
          },
          "execution_count": 19
        },
        {
          "output_type": "display_data",
          "data": {
            "image/png": "[encoded data removed]",
            "text/plain": [
              "<Figure size 432x288 with 1 Axes>"
            ]
          },
          "metadata": {
            "tags": [],
            "needs_background": "light"
          }
        }
      ]
    },
    {
      "cell_type": "code",
      "metadata": {
        "id": "SfMNxQuhODWo"
      },
      "source": [
        ""
      ],
      "execution_count": 19,
      "outputs": []
    }
  ]
}
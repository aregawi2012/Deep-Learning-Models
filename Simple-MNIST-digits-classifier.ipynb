{
  "nbformat": 4,
  "nbformat_minor": 0,
  "metadata": {
    "colab": {
      "name": "Untitled4.ipynb",
      "provenance": [],
      "collapsed_sections": [],
      "authorship_tag": "ABX9TyNsYpIzX0hvBgsOA/K+DGLT",
      "include_colab_link": true
    },
    "kernelspec": {
      "name": "python3",
      "display_name": "Python 3"
    },
    "accelerator": "GPU"
  },
  "cells": [
    {
      "cell_type": "markdown",
      "metadata": {
        "id": "view-in-github",
        "colab_type": "text"
      },
      "source": [
        "<a href=\"https://colab.research.google.com/github/aregawi2012/Deep-Learning-Models/blob/master/Simple-MNIST-digits-classifier.ipynb\" target=\"_parent\"><img src=\"https://colab.research.google.com/assets/colab-badge.svg\" alt=\"Open In Colab\"/></a>"
      ]
    },
    {
      "cell_type": "code",
      "metadata": {
        "id": "uGUKrorM_KYQ",
        "colab_type": "code",
        "colab": {}
      },
      "source": [
        "import numpy as np\n",
        "import matplotlib.pyplot as plt\n",
        "\n",
        "import torch\n",
        "import torch.utils.data.dataloader as dataloader\n",
        "import torchvision.datasets as datasets\n",
        "import torchvision.transforms as transforms\n",
        "\n",
        "import torch.optim as opt\n",
        "import torch.nn as nn\n",
        "import torch.optim as optim\n"
      ],
      "execution_count": 39,
      "outputs": []
    },
    {
      "cell_type": "code",
      "metadata": {
        "id": "tkcvc3SK_R1g",
        "colab_type": "code",
        "colab": {
          "base_uri": "https://localhost:8080/",
          "height": 35
        },
        "outputId": "57014c49-ee25-420f-b604-c4028211703a"
      },
      "source": [
        "# check if there is GPU\n",
        "gpu_avaliable = torch.cuda.is_available()\n",
        "if gpu_avaliable:\n",
        "  device = \"cuda\"\n",
        "  print(\"GPU avaliable train of GPU\")\n",
        "else:\n",
        "  print(\"No GPU availabie , training will continue on cpu\")"
      ],
      "execution_count": 40,
      "outputs": [
        {
          "output_type": "stream",
          "text": [
            "GPU avaliable train of GPU\n"
          ],
          "name": "stdout"
        }
      ]
    },
    {
      "cell_type": "code",
      "metadata": {
        "id": "z0JeEI1ePFEW",
        "colab_type": "code",
        "colab": {}
      },
      "source": [
        "# Prepare dataset\n",
        "ts = transforms.Compose([transforms.ToTensor(),transforms.Normalize(0.4 , 0.5)])\n",
        "train = datasets.MNIST('mnist', train=True, transform=ts, download=True)\n",
        "test  = datasets.MNIST('mnist', train=False, transform=ts, download=True)"
      ],
      "execution_count": 41,
      "outputs": []
    },
    {
      "cell_type": "code",
      "metadata": {
        "id": "U1nbVEKEz74Z",
        "colab_type": "code",
        "colab": {}
      },
      "source": [
        "train_loader = dataloader.DataLoader(train,batch_size=100 , shuffle=True)\n",
        "test_loader = dataloader.DataLoader(test,batch_size=100 , shuffle=False)"
      ],
      "execution_count": 42,
      "outputs": []
    },
    {
      "cell_type": "code",
      "metadata": {
        "id": "anVAXjERPJta",
        "colab_type": "code",
        "colab": {}
      },
      "source": [
        "# VISUALIZATION"
      ],
      "execution_count": 43,
      "outputs": []
    },
    {
      "cell_type": "code",
      "metadata": {
        "id": "9-z7BuL2SyXz",
        "colab_type": "code",
        "colab": {
          "base_uri": "https://localhost:8080/",
          "height": 265
        },
        "outputId": "82b8dc31-54da-4041-ee53-fcd655c00130"
      },
      "source": [
        "# single image\n",
        "fig = plt.figure()\n",
        "plt.imshow(train.data[1,:,:])\n",
        "plt.axis('off')"
      ],
      "execution_count": 44,
      "outputs": [
        {
          "output_type": "execute_result",
          "data": {
            "text/plain": [
              "(-0.5, 27.5, 27.5, -0.5)"
            ]
          },
          "metadata": {
            "tags": []
          },
          "execution_count": 44
        },
        {
          "output_type": "display_data",
          "data": {
            "image/png": "[encoded data removed]",
            "text/plain": [
              "<Figure size 432x288 with 1 Axes>"
            ]
          },
          "metadata": {
            "tags": [],
            "needs_background": "light"
          }
        }
      ]
    },
    {
      "cell_type": "code",
      "metadata": {
        "id": "uNyut79JQCnO",
        "colab_type": "code",
        "colab": {
          "base_uri": "https://localhost:8080/",
          "height": 229
        },
        "outputId": "1f910886-b2f6-48e6-aae1-0a04b9bec354"
      },
      "source": [
        "# multiple images\n",
        "fig = plt.figure()\n",
        "num_image = 40 \n",
        "for i in range(1 , 41):\n",
        "  plt.subplot(4,10,i)\n",
        "  plt.imshow(train.data[i],cmap='Purples_r' , )\n",
        "  plt.axis('off')"
      ],
      "execution_count": 45,
      "outputs": [
        {
          "output_type": "display_data",
          "data": {
            "image/png": "[encoded data removed]",
            "text/plain": [
              "<Figure size 432x288 with 40 Axes>"
            ]
          },
          "metadata": {
            "tags": [],
            "needs_background": "light"
          }
        }
      ]
    },
    {
      "cell_type": "code",
      "metadata": {
        "id": "K9Kc5nLoQOW5",
        "colab_type": "code",
        "colab": {}
      },
      "source": [
        "# Creating Network Architecture\n",
        "class Network(nn.Module):\n",
        "  def __init__(self , num_in_channels, num_classes):\n",
        "    super(Network, self).__init__()\n",
        "\n",
        "    self.features = nn.Sequential(\n",
        "           nn.Conv2d(num_in_channels, out_channels=32, kernel_size=3 , padding=1 , stride=1),\n",
        "           nn.ReLU(),\n",
        "\n",
        "           nn.Conv2d(32, 32, kernel_size=3, padding=1, stride=1),\n",
        "           nn.ReLU(),\n",
        "           nn.MaxPool2d(2),\n",
        "           nn.Dropout(0.4),\n",
        "\n",
        "           nn.Conv2d(32, 64, kernel_size=3, padding=1, stride=1),\n",
        "           nn.ReLU(),\n",
        "           nn.MaxPool2d(2)\n",
        "\n",
        "     )\n",
        "    self.classfier = nn.Sequential(\n",
        "       nn.Linear(7*7*64, 200),\n",
        "       nn.ReLU(),\n",
        "       nn.Dropout(0.5),\n",
        "       nn.Linear(200,num_classes),\n",
        "       nn.ReLU()\n",
        "    )\n",
        "    \n",
        "  def forward(self, x):\n",
        "\n",
        "     # extract features\n",
        "     x = self.features(x)\n",
        "\n",
        "     # flatten features\n",
        "     x = x.view(-1 , 7*7*64)\n",
        "\n",
        "     # classfier part\n",
        "     x = self.classfier(x)\n",
        "     \n",
        "     return x"
      ],
      "execution_count": 46,
      "outputs": []
    },
    {
      "cell_type": "code",
      "metadata": {
        "id": "3xBiUhd9uBNr",
        "colab_type": "code",
        "colab": {}
      },
      "source": [
        "# Create the instance of the model\n",
        "model = Network(1,10)\n",
        "if gpu_avaliable:\n",
        "  model = model.to(device)"
      ],
      "execution_count": 47,
      "outputs": []
    },
    {
      "cell_type": "code",
      "metadata": {
        "id": "NK-YqIsWhjK-",
        "colab_type": "code",
        "colab": {}
      },
      "source": [
        ""
      ],
      "execution_count": 47,
      "outputs": []
    },
    {
      "cell_type": "code",
      "metadata": {
        "id": "QYk-zSLJRqx9",
        "colab_type": "code",
        "colab": {}
      },
      "source": [
        "# we will save checkpoints to the checkpoints folder. Create it.\n",
        "!mkdir -p checkpoints"
      ],
      "execution_count": 48,
      "outputs": []
    },
    {
      "cell_type": "code",
      "metadata": {
        "id": "Vpx7HCnXRKoM",
        "colab_type": "code",
        "colab": {}
      },
      "source": [
        "def save_checkpoint(optimizer, model, epoch, filename):\n",
        "    checkpoint_dict = {\n",
        "        'optimizer': optimizer.state_dict(),\n",
        "        'model': model.state_dict(),\n",
        "        'epoch': epoch\n",
        "    }\n",
        "    torch.save(checkpoint_dict, filename)\n",
        "\n",
        "\n",
        "def load_checkpoint(optimizer, model, filename):\n",
        "    checkpoint_dict = torch.load(filename)\n",
        "    epoch = checkpoint_dict['epoch']\n",
        "    model.load_state_dict(checkpoint_dict['model'])\n",
        "    if optimizer is not None:\n",
        "        optimizer.load_state_dict(checkpoint_dict['optimizer'])\n",
        "    return epoch"
      ],
      "execution_count": 49,
      "outputs": []
    },
    {
      "cell_type": "code",
      "metadata": {
        "id": "i7CNpstniquY",
        "colab_type": "code",
        "colab": {}
      },
      "source": [
        "\n",
        "\n",
        "#Loss function \n",
        "criterion = nn.CrossEntropyLoss()\n",
        "\n",
        "#Optimizer\n",
        "optimizer = optim.Adam(model.parameters() , lr=3e-4 , weight_decay=0.001)\n"
      ],
      "execution_count": 50,
      "outputs": []
    },
    {
      "cell_type": "code",
      "metadata": {
        "id": "wXM98sQTnK1x",
        "colab_type": "code",
        "colab": {}
      },
      "source": [
        "# define training for epoch\n",
        "\n",
        "def train_one_epoch():\n",
        "\n",
        "    # put model in train mode\n",
        "    model.train()\n",
        "\n",
        "    # keep track of the training losses during the epoch\n",
        "    train_losses = []\n",
        "\n",
        "    for batch, targets in train_loader:\n",
        "        # Move the training data to the GPU\n",
        "        if gpu_avaliable:\n",
        "           batch = batch.to(device)\n",
        "           targets = targets.to(device)\n",
        "\n",
        "        #reset gradients\n",
        "        optimizer.zero_grad()\n",
        "\n",
        "        # make prediction ( forward pass)\n",
        "        predictions = model(batch)\n",
        "\n",
        "        # calculate loss\n",
        "        loss = criterion(predictions, targets)\n",
        "\n",
        "        #backprop\n",
        "        loss.backward()\n",
        "\n",
        "        #Update weights\n",
        "        optimizer.step()\n",
        "\n",
        "        # hold losses\n",
        "        train_losses.append(loss.item())\n",
        "    return np.mean(train_losses)\n",
        "\n",
        "def testing_one_epoch():\n",
        "\n",
        "  # put model to validation\n",
        "  model.eval()\n",
        "\n",
        "  # validation loos\n",
        "  test_losses = []\n",
        "  y_pred = []\n",
        "\n",
        "  # testing stage\n",
        "  with torch.no_grad():\n",
        "\n",
        "    # for each batch\n",
        "    \n",
        "    for batch , targets in test_loader:\n",
        "\n",
        "      # add to device if there is special device\n",
        "      if gpu_avaliable:\n",
        "        batch = batch.to(device)\n",
        "        targets = targets.to(device)\n",
        "\n",
        "\n",
        "      # make prediction\n",
        "      predictions = model(batch)\n",
        "\n",
        "      # calculate the loss\n",
        "      loss = criterion(predictions,targets)\n",
        "\n",
        "      # update running loss value\n",
        "      test_losses.append(loss.item())\n",
        "\n",
        "      # save predictions\n",
        "      y_pred.extend(predictions.argmax(dim=1).cpu().numpy())\n",
        "\n",
        "  # avearage testing error for this\n",
        "  test_loss = np.mean(test_losses)\n",
        "\n",
        "  # for accuracy ( we need y_hat and y_true)\n",
        "  y_hat = np.array(y_pred , dtype = np.float32)\n",
        "  y_true = np.array(test.targets , dtype=np.float32) # all targets\n",
        " \n",
        "  # get accuracy\n",
        "  accuracy =  np.mean(y_hat == y_true)\n",
        "\n",
        "  return test_loss , accuracy"
      ],
      "execution_count": 51,
      "outputs": []
    },
    {
      "cell_type": "code",
      "metadata": {
        "id": "KGIYbPP81wpK",
        "colab_type": "code",
        "colab": {}
      },
      "source": [
        "# now iterate through all the epoches\n",
        "def train_model(epochs):\n",
        "\n",
        "  train_losses, valid_losses , accuracy = [],  [], []\n",
        "  for epoch in range(epochs):\n",
        "\n",
        "    # call training\n",
        "    train_loss = train_one_epoch()\n",
        "\n",
        "    # call testing after each epoch\n",
        "    test_loss, acc = testing_one_epoch()\n",
        "\n",
        "    print(f'[{epoch:03d}] train loss :{train_loss:04f} '\n",
        "          f'test loss : {test_loss:04f} '\n",
        "          f'acc: {acc*100:.4f}%')\n",
        "    \n",
        "    # track losses for later statestics\n",
        "    train_losses.append(train_loss)\n",
        "    valid_losses.append(test_loss)\n",
        "    accuracy.append(acc)\n",
        "\n",
        "    # save models\n",
        "    check_point_name = f'checkpoints/mnist-{epoch:02d}.pkl'\n",
        "    save_checkpoint(optimizer,model,epoch,check_point_name)\n",
        "\n",
        "  return train_losses, valid_losses, accuracy\n",
        "  "
      ],
      "execution_count": 52,
      "outputs": []
    },
    {
      "cell_type": "code",
      "metadata": {
        "id": "X_K3ePH4Blwa",
        "colab_type": "code",
        "colab": {}
      },
      "source": [
        ""
      ],
      "execution_count": 52,
      "outputs": []
    },
    {
      "cell_type": "code",
      "metadata": {
        "id": "VDdFK6RDSZ1X",
        "colab_type": "code",
        "colab": {
          "base_uri": "https://localhost:8080/",
          "height": 277
        },
        "outputId": "f1ed1da8-17a0-44d6-de3c-f199d52b83e9"
      },
      "source": [
        "train_losses, valid_losses, acc = train_model(15)"
      ],
      "execution_count": 53,
      "outputs": [
        {
          "output_type": "stream",
          "text": [
            "[000] train loss :0.523531 test loss : 0.078507 acc: 97.4600%\n",
            "[001] train loss :0.134407 test loss : 0.057788 acc: 98.1800%\n",
            "[002] train loss :0.105461 test loss : 0.046300 acc: 98.3900%\n",
            "[003] train loss :0.085938 test loss : 0.037639 acc: 98.7600%\n",
            "[004] train loss :0.074895 test loss : 0.036132 acc: 98.8000%\n",
            "[005] train loss :0.071170 test loss : 0.034659 acc: 98.9400%\n",
            "[006] train loss :0.062535 test loss : 0.032477 acc: 98.9100%\n",
            "[007] train loss :0.059489 test loss : 0.027706 acc: 99.1400%\n",
            "[008] train loss :0.057578 test loss : 0.029677 acc: 99.0800%\n",
            "[009] train loss :0.054813 test loss : 0.027417 acc: 99.1600%\n",
            "[010] train loss :0.052029 test loss : 0.025539 acc: 99.1800%\n",
            "[011] train loss :0.051505 test loss : 0.028117 acc: 99.0300%\n",
            "[012] train loss :0.047326 test loss : 0.025080 acc: 99.2600%\n",
            "[013] train loss :0.045944 test loss : 0.025236 acc: 99.1700%\n",
            "[014] train loss :0.044921 test loss : 0.026956 acc: 99.1900%\n"
          ],
          "name": "stdout"
        }
      ]
    },
    {
      "cell_type": "code",
      "metadata": {
        "id": "f64guBdTBq6B",
        "colab_type": "code",
        "colab": {
          "base_uri": "https://localhost:8080/",
          "height": 295
        },
        "outputId": "c39ce785-b2fb-40ab-bc75-52de60db2c91"
      },
      "source": [
        "# draw statistics\n",
        "epochs = range(1,len(train_losses)+1)\n",
        "fig = plt.figure()\n",
        "plt.plot(epochs, train_losses ,'-o' , label = \"Training Loss\")\n",
        "plt.plot(epochs, valid_losses, '-o' ,label = 'Validation Lostt')\n",
        "#plt.plot(epochs, acc, '-o' ,label = 'Accuracy')\n",
        "plt.legend()\n",
        "plt.title('Learning curves')\n",
        "plt.xlabel('Epoch')\n",
        "plt.ylabel('Loss')\n",
        "plt.xticks(epochs)\n",
        "plt.show()\n"
      ],
      "execution_count": 59,
      "outputs": [
        {
          "output_type": "display_data",
          "data": {
            "image/png": "[encoded data removed]",
            "text/plain": [
              "<Figure size 432x288 with 1 Axes>"
            ]
          },
          "metadata": {
            "tags": [],
            "needs_background": "light"
          }
        }
      ]
    },
    {
      "cell_type": "code",
      "metadata": {
        "id": "NsR-0vJMLg75",
        "colab_type": "code",
        "colab": {
          "base_uri": "https://localhost:8080/",
          "height": 35
        },
        "outputId": "3b17cfe0-ecd1-495d-8cef-46b4d14f0ae9"
      },
      "source": [
        "load_checkpoint(optimizer,model,'checkpoints/mnist-14.pkl')"
      ],
      "execution_count": 61,
      "outputs": [
        {
          "output_type": "execute_result",
          "data": {
            "text/plain": [
              "14"
            ]
          },
          "metadata": {
            "tags": []
          },
          "execution_count": 61
        }
      ]
    },
    {
      "cell_type": "code",
      "metadata": {
        "id": "9aHtHjYOK65u",
        "colab_type": "code",
        "colab": {}
      },
      "source": [
        "# prediction on signle image\n",
        "\n",
        "image_index = 300 # from the testing set\n",
        "single_loaded_img = test_loader.dataset.data[image_index]\n",
        "single_loaded_img = single_loaded_img.to(device)\n",
        "single_loaded_img = single_loaded_img[None, None]\n",
        "single_loaded_img = single_loaded_img.type('torch.cuda.FloatTensor') # instead of DoubleTensor\n",
        "\n",
        "out_predict = model(single_loaded_img)"
      ],
      "execution_count": 62,
      "outputs": []
    },
    {
      "cell_type": "code",
      "metadata": {
        "id": "fVjl2FPRN0aF",
        "colab_type": "code",
        "colab": {
          "base_uri": "https://localhost:8080/",
          "height": 352
        },
        "outputId": "1dc26401-fc6d-4526-c2ed-574d43bb3ecc"
      },
      "source": [
        "print(out_predict)\n",
        "pred = out_predict.max(1, keepdim=True)[1]\n",
        "print(pred)\n",
        "plt.imshow(test_loader.dataset.data[image_index])\n",
        "plt.show"
      ],
      "execution_count": 63,
      "outputs": [
        {
          "output_type": "stream",
          "text": [
            "tensor([[   0.0000,  340.8246,  101.5164,    0.0000, 1420.7695,    0.0000,\n",
            "            0.0000,  318.6374,    0.0000,   64.9725]], device='cuda:0',\n",
            "       grad_fn=<ReluBackward0>)\n",
            "tensor([[4]], device='cuda:0')\n"
          ],
          "name": "stdout"
        },
        {
          "output_type": "execute_result",
          "data": {
            "text/plain": [
              "<function matplotlib.pyplot.show>"
            ]
          },
          "metadata": {
            "tags": []
          },
          "execution_count": 63
        },
        {
          "output_type": "display_data",
          "data": {
            "image/png": "[encoded data removed]",
            "text/plain": [
              "<Figure size 432x288 with 1 Axes>"
            ]
          },
          "metadata": {
            "tags": [],
            "needs_background": "light"
          }
        }
      ]
    },
    {
      "cell_type": "code",
      "metadata": {
        "id": "SfMNxQuhODWo",
        "colab_type": "code",
        "colab": {}
      },
      "source": [
        ""
      ],
      "execution_count": 57,
      "outputs": []
    }
  ]
}